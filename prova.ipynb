{
 "cells": [
  {
   "cell_type": "code",
   "execution_count": 1,
   "metadata": {},
   "outputs": [
    {
     "name": "stdout",
     "output_type": "stream",
     "text": [
      "         account_name                                        campaign  clicks  \\\n",
      "0  Servizi San Pietro  ISP Group| acquisizione lead ufficio FE [Lead]    26.0   \n",
      "1  Servizi San Pietro                 Zona 3|Promozione cantieri [LP]   920.0   \n",
      "2  Servizi San Pietro          Zona 3| Promozione immobili [Traffico]   469.0   \n",
      "3  Servizi San Pietro        ISP Group |Promozione Cantieri  BO  [LP]   499.0   \n",
      "4  Servizi San Pietro               Zona 3|Promozione cantieri [Lead]    34.0   \n",
      "\n",
      "  datasource        date    source  spend  \n",
      "0   facebook  2025-02-08  facebook   9.06  \n",
      "1   facebook  2025-02-08  facebook  80.65  \n",
      "2   facebook  2025-02-08  facebook  40.03  \n",
      "3   facebook  2025-02-08  facebook  30.36  \n",
      "4   facebook  2025-02-08  facebook  13.55  \n"
     ]
    }
   ],
   "source": [
    "import requests\n",
    "import pandas as pd\n",
    "\n",
    "# URL dell'API di Windsor.ai\n",
    "url = \"https://connectors.windsor.ai/facebook?api_key=4cc9f4e2d5c204f9883615767dab6c121881&date_preset=last_30d&fields=account_name,campaign,clicks,datasource,date,source,spend\"\n",
    "# Richiesta GET per ottenere i dati\n",
    "response = requests.get(url)\n",
    "\n",
    "# Verifica se la richiesta è andata a buon fine\n",
    "if response.status_code == 200:\n",
    "    data = response.json()\n",
    "    df = pd.DataFrame(data['data'])  # Converte il JSON in DataFrame\n",
    "    print(df.head())  # Stampa le prime righe del dataset\n",
    "else:\n",
    "    print(\"Errore nella richiesta:\", response.status_code)\n",
    "df.to_csv(\"campaigns.csv\")"
   ]
  },
  {
   "cell_type": "code",
   "execution_count": 2,
   "metadata": {},
   "outputs": [
    {
     "name": "stdout",
     "output_type": "stream",
     "text": [
      "                                         campaign campaign_bid_strategy  \\\n",
      "0  ISP Group| acquisizione lead ufficio FE [Lead]                  None   \n",
      "1                 Zona 3|Promozione cantieri [LP]                  None   \n",
      "2          Zona 3| Promozione immobili [Traffico]                  None   \n",
      "3        ISP Group |Promozione Cantieri  BO  [LP]                  None   \n",
      "4              Zona 2I Promozione cantieri [Lead]                  None   \n",
      "\n",
      "   campaign_budget_remaining campaign_buying_type campaign_configured_status  \\\n",
      "0                        0.0              AUCTION                     ACTIVE   \n",
      "1                        0.0              AUCTION                     ACTIVE   \n",
      "2                        0.0              AUCTION                     ACTIVE   \n",
      "3                        0.0              AUCTION                     ACTIVE   \n",
      "4                        0.0              AUCTION                     ACTIVE   \n",
      "\n",
      "      campaign_created_time campaign_daily_budget campaign_effective_status  \\\n",
      "0  2022-06-17T15:29:38+0200                  None                    ACTIVE   \n",
      "1  2022-07-06T12:43:34+0200                  None                    ACTIVE   \n",
      "2  2022-09-02T10:29:29+0200                  None                    ACTIVE   \n",
      "3  2022-09-26T11:20:17+0200                  None                    ACTIVE   \n",
      "4  2022-09-26T16:18:18+0200                  None                    ACTIVE   \n",
      "\n",
      "     campaign_id campaign_lifetime_budget campaign_objective  \\\n",
      "0  6276031528507                     None    LEAD_GENERATION   \n",
      "1  6278056823907                     None        LINK_CLICKS   \n",
      "2  6284683133507                     None    OUTCOME_TRAFFIC   \n",
      "3  6287720395307                     None    OUTCOME_TRAFFIC   \n",
      "4  6287758706907                     None      OUTCOME_LEADS   \n",
      "\n",
      "  campaign_special_ad_category campaign_spend_cap       campaign_start_time  \\\n",
      "0                      HOUSING               None  2022-06-17T15:29:39+0200   \n",
      "1                      HOUSING               None  2022-07-06T13:03:28+0200   \n",
      "2                      HOUSING               None  2022-09-02T10:30:12+0200   \n",
      "3                      HOUSING               None  2022-09-26T11:20:18+0200   \n",
      "4                      HOUSING               None  2022-09-26T16:18:19+0200   \n",
      "\n",
      "  campaign_stop_time     campaignid        objective    spend  totalcost  \n",
      "0               None  6276031528507  LEAD_GENERATION   297.79     297.79  \n",
      "1               None  6278056823907      LINK_CLICKS  1919.77    1919.77  \n",
      "2               None  6284683133507      LINK_CLICKS   935.95     935.95  \n",
      "3               None  6287720395307      LINK_CLICKS   903.30     903.30  \n",
      "4               None  6287758706907    OUTCOME_LEADS   581.08     581.08  \n"
     ]
    }
   ],
   "source": [
    "import requests\n",
    "import pandas as pd\n",
    "\n",
    "# URL dell'API di Windsor.ai\n",
    "url = \"https://connectors.windsor.ai/facebook?api_key=4cc9f4e2d5c204f9883615767dab6c121881&date_preset=last_30d&fields=campaign,campaign_bid_strategy,campaign_budget_remaining,campaign_buying_type,campaign_configured_status,campaign_created_time,campaign_daily_budget,campaign_effective_status,campaign_id,campaign_lifetime_budget,campaign_objective,campaign_special_ad_category,campaign_spend_cap,campaign_start_time,campaign_stop_time,campaignid,objective,spend,totalcost\"\n",
    "# Richiesta GET per ottenere i dati\n",
    "response = requests.get(url)\n",
    "\n",
    "# Verifica se la richiesta è andata a buon fine\n",
    "if response.status_code == 200:\n",
    "    data = response.json()\n",
    "    df = pd.DataFrame(data['data'])  # Converte il JSON in DataFrame\n",
    "    print(df.head())  # Stampa le prime righe del dataset\n",
    "else:\n",
    "    print(\"Errore nella richiesta:\", response.status_code)\n",
    "df.to_csv(\"campaigns_full.csv\")"
   ]
  }
 ],
 "metadata": {
  "kernelspec": {
   "display_name": "Python 3",
   "language": "python",
   "name": "python3"
  },
  "language_info": {
   "codemirror_mode": {
    "name": "ipython",
    "version": 3
   },
   "file_extension": ".py",
   "mimetype": "text/x-python",
   "name": "python",
   "nbconvert_exporter": "python",
   "pygments_lexer": "ipython3",
   "version": "3.12.1"
  }
 },
 "nbformat": 4,
 "nbformat_minor": 2
}
